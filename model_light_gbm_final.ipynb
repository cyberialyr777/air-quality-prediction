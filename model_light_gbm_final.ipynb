{
 "cells": [
  {
   "cell_type": "code",
   "execution_count": 1,
   "id": "2f3ee9ec",
   "metadata": {},
   "outputs": [
    {
     "name": "stdout",
     "output_type": "stream",
     "text": [
      "Dataset 'dataset_cdmx_con_lags.csv' cargado para el entrenamiento final.\n",
      "\n",
      "Entrenando el modelo final con los parámetros óptimos...\n"
     ]
    },
    {
     "name": "stderr",
     "output_type": "stream",
     "text": [
      "C:\\Users\\barbe\\AppData\\Local\\Temp\\ipykernel_30004\\2247365432.py:19: FutureWarning: DataFrame.fillna with 'method' is deprecated and will raise in a future version. Use obj.ffill() or obj.bfill() instead.\n",
      "  X = X.interpolate(method='linear', limit_direction='both').fillna(method='bfill').fillna(method='ffill')\n"
     ]
    },
    {
     "name": "stdout",
     "output_type": "stream",
     "text": [
      "[LightGBM] [Info] Auto-choosing col-wise multi-threading, the overhead of testing was 0.002894 seconds.\n",
      "You can set `force_col_wise=true` to remove the overhead.\n",
      "[LightGBM] [Info] Total Bins 4671\n",
      "[LightGBM] [Info] Number of data points in the train set: 15360, number of used features: 23\n",
      "[LightGBM] [Info] Start training from score 17.065039\n",
      "¡Modelo final entrenado!\n",
      "\n",
      "Guardando el modelo en el archivo: modelo_pm25_predictor_cdmx.pkl\n",
      "✅ ¡Éxito! El modelo ha sido guardado correctamente.\n"
     ]
    }
   ],
   "source": [
    "import pandas as pd\n",
    "import lightgbm as lgb\n",
    "import joblib # Importamos la librería para guardar el modelo\n",
    "\n",
    "# --- 1. Cargar el Dataset con Lag Features ---\n",
    "archivo_datos = 'dataset_cdmx_con_lags.csv'\n",
    "\n",
    "try:\n",
    "    df = pd.read_csv(archivo_datos)\n",
    "    df['timestamp'] = pd.to_datetime(df['timestamp'])\n",
    "    print(f\"Dataset '{archivo_datos}' cargado para el entrenamiento final.\")\n",
    "\n",
    "    # --- 2. Preparar Datos (X y y) ---\n",
    "    df.dropna(subset=['pm25_prediction'], inplace=True)\n",
    "    y = df['pm25_prediction']\n",
    "    X = df.drop(columns=['pm25_prediction', 'timestamp'])\n",
    "    \n",
    "    # Limpieza final\n",
    "    X = X.interpolate(method='linear', limit_direction='both').fillna(method='bfill').fillna(method='ffill')\n",
    "\n",
    "    # --- 3. Entrenar el Modelo FINAL con los Mejores Parámetros en TODOS los datos ---\n",
    "    # (Para el archivo final, es una práctica común entrenar con todos los datos disponibles)\n",
    "    print(\"\\nEntrenando el modelo final con los parámetros óptimos...\")\n",
    "    \n",
    "    # Usamos los mejores parámetros que encontraste en la búsqueda anterior\n",
    "    mejores_parametros = {\n",
    "        'reg_lambda': 1.0, \n",
    "        'reg_alpha': 1.0, \n",
    "        'num_leaves': 20, \n",
    "        'n_estimators': 500, \n",
    "        'max_depth': 15, \n",
    "        'learning_rate': 0.01, \n",
    "        'colsample_bytree': 0.9\n",
    "    }\n",
    "    \n",
    "    # Inicializamos y entrenamos el modelo final\n",
    "    final_model = lgb.LGBMRegressor(**mejores_parametros, random_state=42)\n",
    "    final_model.fit(X, y)\n",
    "    \n",
    "    print(\"¡Modelo final entrenado!\")\n",
    "\n",
    "    # --- 4. Guardar el Modelo en un Archivo .pkl ---\n",
    "    nombre_archivo_modelo = 'modelo_pm25_predictor_cdmx.pkl'\n",
    "    print(f\"\\nGuardando el modelo en el archivo: {nombre_archivo_modelo}\")\n",
    "    \n",
    "    joblib.dump(final_model, nombre_archivo_modelo)\n",
    "    \n",
    "    print(f\"✅ ¡Éxito! El modelo ha sido guardado correctamente.\")\n",
    "\n",
    "except FileNotFoundError:\n",
    "    print(f\"❌ Error: No se encontró el archivo '{archivo_datos}'.\")\n",
    "except Exception as e:\n",
    "    print(f\"Ocurrió un error inesperado: {e}\")"
   ]
  },
  {
   "cell_type": "code",
   "execution_count": 1,
   "id": "81df5411",
   "metadata": {},
   "outputs": [
    {
     "name": "stderr",
     "output_type": "stream",
     "text": [
      "C:\\Users\\barbe\\AppData\\Local\\Temp\\ipykernel_36092\\3361594888.py:10: FutureWarning: In a future version of pandas, parsing datetimes with mixed time zones will raise an error unless `utc=True`. Please specify `utc=True` to opt in to the new behaviour and silence this warning. To create a `Series` with mixed offsets and `object` dtype, please use `apply` and `datetime.datetime.strptime`\n",
      "  df['timestamp'] = pd.to_datetime(df['timestamp'])\n",
      "C:\\Users\\barbe\\AppData\\Local\\Temp\\ipykernel_36092\\3361594888.py:19: FutureWarning: DataFrame.fillna with 'method' is deprecated and will raise in a future version. Use obj.ffill() or obj.bfill() instead.\n",
      "  X = X.interpolate(method='linear', limit_direction='both').fillna(method='bfill').fillna(method='ffill')\n"
     ]
    },
    {
     "name": "stdout",
     "output_type": "stream",
     "text": [
      "Dataset 'dataset_LA_con_lags.csv' cargado para el entrenamiento final.\n",
      "\n",
      "Entrenando el modelo final con los parámetros óptimos...\n",
      "[LightGBM] [Info] Auto-choosing col-wise multi-threading, the overhead of testing was 0.001977 seconds.\n",
      "You can set `force_col_wise=true` to remove the overhead.\n",
      "[LightGBM] [Info] Total Bins 4206\n",
      "[LightGBM] [Info] Number of data points in the train set: 15384, number of used features: 23\n",
      "[LightGBM] [Info] Start training from score 13.054105\n",
      "¡Modelo final entrenado!\n",
      "\n",
      "Guardando el modelo en el archivo: modelo_pm25_predictor_LA.pkl\n",
      "✅ ¡Éxito! El modelo ha sido guardado correctamente.\n"
     ]
    }
   ],
   "source": [
    "import pandas as pd\n",
    "import lightgbm as lgb\n",
    "import joblib # Importamos la librería para guardar el modelo\n",
    "\n",
    "# --- 1. Cargar el Dataset con Lag Features ---\n",
    "archivo_datos = 'dataset_LA_con_lags.csv'\n",
    "\n",
    "try:\n",
    "    df = pd.read_csv(archivo_datos)\n",
    "    df['timestamp'] = pd.to_datetime(df['timestamp'])\n",
    "    print(f\"Dataset '{archivo_datos}' cargado para el entrenamiento final.\")\n",
    "\n",
    "    # --- 2. Preparar Datos (X y y) ---\n",
    "    df.dropna(subset=['pm25_prediction'], inplace=True)\n",
    "    y = df['pm25_prediction']\n",
    "    X = df.drop(columns=['pm25_prediction', 'timestamp', 'pm10'])\n",
    "    \n",
    "    # Limpieza final\n",
    "    X = X.interpolate(method='linear', limit_direction='both').fillna(method='bfill').fillna(method='ffill')\n",
    "\n",
    "    # --- 3. Entrenar el Modelo FINAL con los Mejores Parámetros en TODOS los datos ---\n",
    "    # (Para el archivo final, es una práctica común entrenar con todos los datos disponibles)\n",
    "    print(\"\\nEntrenando el modelo final con los parámetros óptimos...\")\n",
    "    \n",
    "    # Usamos los mejores parámetros que encontraste en la búsqueda anterior\n",
    "    mejores_parametros = {\n",
    "        'reg_lambda': 1.0, \n",
    "        'reg_alpha': 1.0, \n",
    "        'num_leaves': 20, \n",
    "        'n_estimators': 500, \n",
    "        'max_depth': 15, \n",
    "        'learning_rate': 0.01, \n",
    "        'colsample_bytree': 0.9\n",
    "    }\n",
    "    \n",
    "    # Inicializamos y entrenamos el modelo final\n",
    "    final_model = lgb.LGBMRegressor(**mejores_parametros, random_state=42)\n",
    "    final_model.fit(X, y)\n",
    "    \n",
    "    print(\"¡Modelo final entrenado!\")\n",
    "\n",
    "    # --- 4. Guardar el Modelo en un Archivo .pkl ---\n",
    "    nombre_archivo_modelo = 'modelo_pm25_predictor_LA.pkl'\n",
    "    print(f\"\\nGuardando el modelo en el archivo: {nombre_archivo_modelo}\")\n",
    "    \n",
    "    joblib.dump(final_model, nombre_archivo_modelo)\n",
    "    \n",
    "    print(f\"✅ ¡Éxito! El modelo ha sido guardado correctamente.\")\n",
    "\n",
    "except FileNotFoundError:\n",
    "    print(f\"❌ Error: No se encontró el archivo '{archivo_datos}'.\")\n",
    "except Exception as e:\n",
    "    print(f\"Ocurrió un error inesperado: {e}\")"
   ]
  }
 ],
 "metadata": {
  "kernelspec": {
   "display_name": "air_quality_env",
   "language": "python",
   "name": "python3"
  },
  "language_info": {
   "codemirror_mode": {
    "name": "ipython",
    "version": 3
   },
   "file_extension": ".py",
   "mimetype": "text/x-python",
   "name": "python",
   "nbconvert_exporter": "python",
   "pygments_lexer": "ipython3",
   "version": "3.10.18"
  }
 },
 "nbformat": 4,
 "nbformat_minor": 5
}
